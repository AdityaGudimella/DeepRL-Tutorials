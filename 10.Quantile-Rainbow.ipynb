{
 "cells": [
  {
   "cell_type": "markdown",
   "metadata": {},
   "source": [
    "# Rainbow with Quantile Regression"
   ]
  },
  {
   "cell_type": "markdown",
   "metadata": {},
   "source": [
    "## Imports"
   ]
  },
  {
   "cell_type": "code",
   "execution_count": 1,
   "metadata": {},
   "outputs": [
    {
     "name": "stderr",
     "output_type": "stream",
     "text": [
      "/home/aditya-ws/anaconda3/envs/scratch/lib/python3.9/site-packages/tqdm/auto.py:22: TqdmWarning: IProgress not found. Please update jupyter and ipywidgets. See https://ipywidgets.readthedocs.io/en/stable/user_install.html\n",
      "  from .autonotebook import tqdm as notebook_tqdm\n"
     ]
    }
   ],
   "source": [
    "import sys\n",
    "sys.path.insert(0, \"/home/aditya-ws/workspace/personal/thirdparty/baselines\")\n",
    "import gym\n",
    "import numpy as np\n",
    "\n",
    "import torch\n",
    "import torch.optim as optim\n",
    "import torch.nn as nn\n",
    "import torch.nn.functional as F\n",
    "\n",
    "from tqdm import trange\n",
    "\n",
    "from IPython.display import clear_output\n",
    "from matplotlib import pyplot as plt\n",
    "%matplotlib inline\n",
    "\n",
    "from timeit import default_timer as timer\n",
    "from datetime import timedelta\n",
    "import math\n",
    "\n",
    "from utils.wrappers import *\n",
    "from agents.DQN import Model as DQN_Agent\n",
    "from utils.ReplayMemory import PrioritizedReplayMemory\n",
    "from networks.layers import NoisyLinear\n",
    "\n",
    "from utils.hyperparameters import Config\n",
    "\n",
    "from morl import memories\n",
    "from morl import external_utils as extu"
   ]
  },
  {
   "cell_type": "markdown",
   "metadata": {},
   "source": [
    "## Hyperparameters"
   ]
  },
  {
   "cell_type": "code",
   "execution_count": 2,
   "metadata": {},
   "outputs": [],
   "source": [
    "config = Config()\n",
    "\n",
    "config.device = torch.device(\"cuda\" if torch.cuda.is_available() else \"cpu\")\n",
    "\n",
    "#Multi-step returns\n",
    "config.N_STEPS = 3\n",
    "\n",
    "#misc agent variables\n",
    "config.GAMMA=0.99\n",
    "config.LR=1e-4\n",
    "\n",
    "#memory\n",
    "config.TARGET_NET_UPDATE_FREQ = 1000\n",
    "config.EXP_REPLAY_SIZE = 100000\n",
    "config.BATCH_SIZE = 32\n",
    "config.PRIORITY_ALPHA=0.3\n",
    "config.PRIORITY_BETA_START=0.4\n",
    "config.PRIORITY_BETA_FRAMES = 100000\n",
    "\n",
    "#epsilon variables\n",
    "config.SIGMA_INIT=0.5\n",
    "\n",
    "#Learning control variables\n",
    "config.LEARN_START = 100#00\n",
    "config.MAX_FRAMES=1000000\n",
    "\n",
    "#Quantile Regression Parameters\n",
    "config.QUANTILES=51"
   ]
  },
  {
   "cell_type": "markdown",
   "metadata": {},
   "source": [
    "## Network"
   ]
  },
  {
   "cell_type": "code",
   "execution_count": 3,
   "metadata": {},
   "outputs": [],
   "source": [
    "class DuelingQRDQN(nn.Module):\n",
    "    def __init__(self, input_shape, num_actions, sigma_init=0.5, quantiles=51):\n",
    "        super(DuelingQRDQN, self).__init__()\n",
    "        \n",
    "        self.input_shape = input_shape\n",
    "        self.num_actions = num_actions\n",
    "        self.quantiles=quantiles\n",
    "        self.head = torch.nn.Sequential(\n",
    "            extu.AsDtype(torch.float32),\n",
    "            extu.PixelNormalize()\n",
    "        )\n",
    "        self.conv1 = nn.Conv2d(self.input_shape[0], 32, kernel_size=8, stride=4)\n",
    "        self.conv2 = nn.Conv2d(32, 64, kernel_size=4, stride=2)\n",
    "        self.conv3 = nn.Conv2d(64, 64, kernel_size=3, stride=1)\n",
    "\n",
    "        self.adv1 = NoisyLinear(self.feature_size(), 512, sigma_init)\n",
    "        self.adv2 = NoisyLinear(512, self.num_actions*self.quantiles, sigma_init)\n",
    "\n",
    "        self.val1 = NoisyLinear(self.feature_size(), 512, sigma_init)\n",
    "        self.val2 = NoisyLinear(512, 1*self.quantiles, sigma_init)\n",
    "        \n",
    "    def forward(self, x):\n",
    "        x = self.head(x)\n",
    "        x = F.relu(self.conv1(x))\n",
    "        x = F.relu(self.conv2(x))\n",
    "        x = F.relu(self.conv3(x))\n",
    "        x = x.view(x.size(0), -1)\n",
    "        adv = F.relu(self.adv1(x))\n",
    "        adv = self.adv2(adv).view(-1, self.num_actions, self.quantiles)\n",
    "\n",
    "        val = F.relu(self.val1(x))\n",
    "        val = self.val2(val).view(-1, 1, self.quantiles)\n",
    "\n",
    "        return val + adv - adv.mean(dim=1).view(-1, 1, self.quantiles)\n",
    "    \n",
    "    def feature_size(self):\n",
    "        return self.conv3(self.conv2(self.conv1(torch.zeros(1, *self.input_shape)))).view(1, -1).size(1)\n",
    "    \n",
    "    def sample_noise(self):\n",
    "        self.adv1.sample_noise()\n",
    "        self.adv2.sample_noise()\n",
    "        self.val1.sample_noise()\n",
    "        self.val2.sample_noise()"
   ]
  },
  {
   "cell_type": "markdown",
   "metadata": {},
   "source": [
    "## Agent"
   ]
  },
  {
   "cell_type": "code",
   "execution_count": 4,
   "metadata": {},
   "outputs": [],
   "source": [
    "class Model(DQN_Agent):\n",
    "    def __init__(self, static_policy=False, env=None, config=None):\n",
    "        self.num_quantiles = config.QUANTILES\n",
    "        self.cumulative_density = torch.tensor((2 * np.arange(self.num_quantiles) + 1) / (2.0 * self.num_quantiles), device=config.device, dtype=torch.float) \n",
    "        self.quantile_weight = 1.0 / self.num_quantiles\n",
    "\n",
    "        super(Model, self).__init__(static_policy, env, config)\n",
    "\n",
    "        self.nsteps=max(self.nsteps, 3)\n",
    "    \n",
    "    def declare_networks(self):\n",
    "        self.model = DuelingQRDQN(self.num_feats, self.num_actions, sigma_init=self.sigma_init, quantiles=self.num_quantiles)\n",
    "        self.target_model = DuelingQRDQN(self.num_feats, self.num_actions, sigma_init=self.sigma_init, quantiles=self.num_quantiles)\n",
    "        \n",
    "    def declare_memory(self):\n",
    "        self.memory = PrioritizedReplayMemory(self.experience_replay_size, self.priority_alpha, self.priority_beta_start, self.priority_beta_frames)\n",
    "        self.morl_memory = memories.NumbaPrioNStepExperienceReplay.with_numba_atari_buffer_and_prioritized_weights(\n",
    "            batch_size=config.BATCH_SIZE,\n",
    "            capacity_per_env=config.EXP_REPLAY_SIZE,\n",
    "            n_steps=3,\n",
    "            n_envs=1,\n",
    "            frame_stack=4,\n",
    "            store_last_state_only=True,\n",
    "        )\n",
    "        \n",
    "    def next_distribution(self, batch_vars):\n",
    "        batch_state, batch_action, batch_reward, non_final_next_states, non_final_mask, empty_next_state_values, indices, weights = batch_vars\n",
    "\n",
    "        with torch.no_grad():\n",
    "            quantiles_next = torch.zeros((self.batch_size, self.num_quantiles), device=self.device, dtype=torch.float)\n",
    "            if not empty_next_state_values:\n",
    "                self.target_model.sample_noise()\n",
    "                max_next_action = self.get_max_next_state_action(non_final_next_states)\n",
    "                quantiles_next[non_final_mask] = self.target_model(non_final_next_states).gather(1, max_next_action).squeeze(dim=1)\n",
    "\n",
    "            quantiles_next = batch_reward + ((self.gamma**self.nsteps)*quantiles_next)\n",
    "\n",
    "        return quantiles_next\n",
    "    \n",
    "    def compute_loss(self, batch_vars):\n",
    "        batch_state, batch_action, batch_reward, non_final_next_states, non_final_mask, empty_next_state_values, indices, weights = batch_vars\n",
    "\n",
    "        batch_action = batch_action.unsqueeze(dim=-1).expand(-1, -1, self.num_quantiles)\n",
    "\n",
    "        self.model.sample_noise()\n",
    "        quantiles = self.model(batch_state)\n",
    "        quantiles = quantiles.gather(1, batch_action).squeeze(1)\n",
    "\n",
    "        quantiles_next = self.next_distribution(batch_vars)\n",
    "          \n",
    "        diff = quantiles_next.t().unsqueeze(-1) - quantiles.unsqueeze(0)\n",
    "\n",
    "        loss = self.huber(diff) * torch.abs(self.cumulative_density.view(1, -1) - (diff < 0).to(torch.float))\n",
    "        loss = loss.transpose(0,1)\n",
    "        self.memory.update_priorities(indices, loss.detach().mean(1).sum(-1).abs().cpu().numpy().tolist())\n",
    "        loss = loss * weights.view(self.batch_size, 1, 1)\n",
    "        loss = loss.mean(1).sum(-1).mean()\n",
    "\n",
    "        return loss\n",
    "\n",
    "    def get_action(self, s):\n",
    "        with torch.no_grad():\n",
    "            # X = torch.tensor([s], device=self.device, dtype=torch.float) \n",
    "            X = torch.tensor(s, device=self.device, dtype=torch.float).div(255) \n",
    "            self.model.sample_noise()\n",
    "            a = (self.model(X) * self.quantile_weight).sum(dim=2).max(dim=1)[1]\n",
    "            # return a.item()\n",
    "            return a.view(-1, 1).cpu().numpy()\n",
    "\n",
    "    def get_max_next_state_action(self, next_states):\n",
    "        next_dist = self.model(next_states) * self.quantile_weight\n",
    "        return next_dist.sum(dim=2).max(1)[1].view(next_states.size(0), 1, 1).expand(-1, -1, self.num_quantiles)"
   ]
  },
  {
   "cell_type": "markdown",
   "metadata": {},
   "source": [
    "## Plot Results"
   ]
  },
  {
   "cell_type": "code",
   "execution_count": 5,
   "metadata": {},
   "outputs": [],
   "source": [
    "def plot(frame_idx, rewards, losses, sigma, elapsed_time):\n",
    "    print('frame %s. reward: %s. time: %s' % (frame_idx, np.mean(rewards[-10:]), elapsed_time))\n",
    "    return\n",
    "    clear_output(True)\n",
    "    plt.figure(figsize=(20,5))\n",
    "    plt.subplot(131)\n",
    "    plt.title('frame %s. reward: %s. time: %s' % (frame_idx, np.mean(rewards[-10:]), elapsed_time))\n",
    "    plt.plot(rewards)\n",
    "    if losses:\n",
    "        plt.subplot(132)\n",
    "        plt.title('loss')\n",
    "        plt.plot(losses)\n",
    "    if sigma:\n",
    "        plt.subplot(133)\n",
    "        plt.title('noisy param magnitude')\n",
    "        plt.plot(sigma)\n",
    "    plt.show()"
   ]
  },
  {
   "cell_type": "markdown",
   "metadata": {},
   "source": [
    "## Training Loop"
   ]
  },
  {
   "cell_type": "code",
   "execution_count": 6,
   "metadata": {
    "scrolled": true
   },
   "outputs": [
    {
     "name": "stderr",
     "output_type": "stream",
     "text": [
      "/home/aditya-ws/anaconda3/envs/scratch/lib/python3.9/site-packages/torchvision/transforms/functional_pil.py:228: DeprecationWarning: BILINEAR is deprecated and will be removed in Pillow 10 (2023-07-01). Use Resampling.BILINEAR instead.\n",
      "  interpolation: int = Image.BILINEAR,\n",
      "/home/aditya-ws/anaconda3/envs/scratch/lib/python3.9/site-packages/torchvision/transforms/functional_pil.py:295: DeprecationWarning: NEAREST is deprecated and will be removed in Pillow 10 (2023-07-01). Use Resampling.NEAREST or Dither.NONE instead.\n",
      "  interpolation: int = Image.NEAREST,\n",
      "/home/aditya-ws/anaconda3/envs/scratch/lib/python3.9/site-packages/torchvision/transforms/functional_pil.py:328: DeprecationWarning: BICUBIC is deprecated and will be removed in Pillow 10 (2023-07-01). Use Resampling.BICUBIC instead.\n",
      "  interpolation: int = Image.BICUBIC,\n"
     ]
    },
    {
     "name": "stdout",
     "output_type": "stream",
     "text": [
      "Setting the default torch device to: cuda\n"
     ]
    },
    {
     "name": "stderr",
     "output_type": "stream",
     "text": [
      "2022-04-28 09:50:31,806\tINFO services.py:1456 -- View the Ray dashboard at \u001b[1m\u001b[32mhttp://127.0.0.1:8265\u001b[39m\u001b[22m\n"
     ]
    },
    {
     "name": "stdout",
     "output_type": "stream",
     "text": [
      "Set the default torch device to: cuda\n",
      "(4, 84, 84) 6\n"
     ]
    },
    {
     "name": "stderr",
     "output_type": "stream",
     "text": [
      "  0%|          | 99/1000000 [00:11<31:29:41,  8.82it/s]"
     ]
    },
    {
     "name": "stdout",
     "output_type": "stream",
     "text": [
      "torch.Size([32, 4, 84, 84]) torch.Size([32, 1])\n"
     ]
    },
    {
     "name": "stderr",
     "output_type": "stream",
     "text": [
      "\n"
     ]
    },
    {
     "ename": "RuntimeError",
     "evalue": "Index tensor must have the same number of dimensions as input tensor",
     "output_type": "error",
     "traceback": [
      "\u001b[0;31m---------------------------------------------------------------------------\u001b[0m",
      "\u001b[0;31mRuntimeError\u001b[0m                              Traceback (most recent call last)",
      "\u001b[1;32m/home/aditya-ws/workspace/personal/thirdparty/DeepRL-Tutorials/10.Quantile-Rainbow.ipynb Cell 13'\u001b[0m in \u001b[0;36m<module>\u001b[0;34m\u001b[0m\n\u001b[1;32m     <a href='vscode-notebook-cell://ssh-remote%2B7b22686f73744e616d65223a225753227d/home/aditya-ws/workspace/personal/thirdparty/DeepRL-Tutorials/10.Quantile-Rainbow.ipynb#ch0000012vscode-remote?line=38'>39</a>\u001b[0m observation \u001b[39m=\u001b[39m \u001b[39mNone\u001b[39;00m \u001b[39mif\u001b[39;00m done \u001b[39melse\u001b[39;00m observation\n\u001b[1;32m     <a href='vscode-notebook-cell://ssh-remote%2B7b22686f73744e616d65223a225753227d/home/aditya-ws/workspace/personal/thirdparty/DeepRL-Tutorials/10.Quantile-Rainbow.ipynb#ch0000012vscode-remote?line=40'>41</a>\u001b[0m \u001b[39m# model.update(prev_observation, action, reward, observation, frame_idx)\u001b[39;00m\n\u001b[0;32m---> <a href='vscode-notebook-cell://ssh-remote%2B7b22686f73744e616d65223a225753227d/home/aditya-ws/workspace/personal/thirdparty/DeepRL-Tutorials/10.Quantile-Rainbow.ipynb#ch0000012vscode-remote?line=41'>42</a>\u001b[0m model\u001b[39m.\u001b[39;49mmorl_update(exp_, frame_idx)\n\u001b[1;32m     <a href='vscode-notebook-cell://ssh-remote%2B7b22686f73744e616d65223a225753227d/home/aditya-ws/workspace/personal/thirdparty/DeepRL-Tutorials/10.Quantile-Rainbow.ipynb#ch0000012vscode-remote?line=42'>43</a>\u001b[0m episode_reward \u001b[39m+\u001b[39m\u001b[39m=\u001b[39m reward\n\u001b[1;32m     <a href='vscode-notebook-cell://ssh-remote%2B7b22686f73744e616d65223a225753227d/home/aditya-ws/workspace/personal/thirdparty/DeepRL-Tutorials/10.Quantile-Rainbow.ipynb#ch0000012vscode-remote?line=44'>45</a>\u001b[0m \u001b[39mif\u001b[39;00m done:\n",
      "File \u001b[0;32m~/workspace/personal/thirdparty/DeepRL-Tutorials/agents/DQN.py:187\u001b[0m, in \u001b[0;36mModel.morl_update\u001b[0;34m(self, exp_, frame)\u001b[0m\n\u001b[1;32m    <a href='file:///home/aditya-ws/workspace/personal/thirdparty/DeepRL-Tutorials/agents/DQN.py?line=183'>184</a>\u001b[0m samples \u001b[39m=\u001b[39m \u001b[39mself\u001b[39m\u001b[39m.\u001b[39mmorl_memory\u001b[39m.\u001b[39mget_(beta\u001b[39m=\u001b[39m\u001b[39mself\u001b[39m\u001b[39m.\u001b[39mmemory\u001b[39m.\u001b[39mbeta_by_frame(frame))\n\u001b[1;32m    <a href='file:///home/aditya-ws/workspace/personal/thirdparty/DeepRL-Tutorials/agents/DQN.py?line=184'>185</a>\u001b[0m tensor_exp \u001b[39m=\u001b[39m samples\u001b[39m.\u001b[39mas_default_tensor()\n\u001b[0;32m--> <a href='file:///home/aditya-ws/workspace/personal/thirdparty/DeepRL-Tutorials/agents/DQN.py?line=186'>187</a>\u001b[0m loss \u001b[39m=\u001b[39m \u001b[39mself\u001b[39;49m\u001b[39m.\u001b[39;49mmorl_compute_loss(tensor_exp)\n\u001b[1;32m    <a href='file:///home/aditya-ws/workspace/personal/thirdparty/DeepRL-Tutorials/agents/DQN.py?line=188'>189</a>\u001b[0m \u001b[39m# Optimize the model\u001b[39;00m\n\u001b[1;32m    <a href='file:///home/aditya-ws/workspace/personal/thirdparty/DeepRL-Tutorials/agents/DQN.py?line=189'>190</a>\u001b[0m \u001b[39mself\u001b[39m\u001b[39m.\u001b[39moptimizer\u001b[39m.\u001b[39mzero_grad()\n",
      "File \u001b[0;32m~/workspace/personal/thirdparty/DeepRL-Tutorials/agents/DQN.py:141\u001b[0m, in \u001b[0;36mModel.morl_compute_loss\u001b[0;34m(self, tensor_exp)\u001b[0m\n\u001b[1;32m    <a href='file:///home/aditya-ws/workspace/personal/thirdparty/DeepRL-Tutorials/agents/DQN.py?line=138'>139</a>\u001b[0m \u001b[39mself\u001b[39m\u001b[39m.\u001b[39mmodel\u001b[39m.\u001b[39msample_noise()\n\u001b[1;32m    <a href='file:///home/aditya-ws/workspace/personal/thirdparty/DeepRL-Tutorials/agents/DQN.py?line=139'>140</a>\u001b[0m \u001b[39mprint\u001b[39m(tensor_exp\u001b[39m.\u001b[39mstates\u001b[39m.\u001b[39mshape, tensor_exp\u001b[39m.\u001b[39mactions\u001b[39m.\u001b[39mshape)\n\u001b[0;32m--> <a href='file:///home/aditya-ws/workspace/personal/thirdparty/DeepRL-Tutorials/agents/DQN.py?line=140'>141</a>\u001b[0m current_q_values \u001b[39m=\u001b[39m \u001b[39mself\u001b[39;49m\u001b[39m.\u001b[39;49mmodel(tensor_exp\u001b[39m.\u001b[39;49mstates)\u001b[39m.\u001b[39;49mgather(\u001b[39m1\u001b[39;49m, tensor_exp\u001b[39m.\u001b[39;49mactions\u001b[39m.\u001b[39;49mlong())\n\u001b[1;32m    <a href='file:///home/aditya-ws/workspace/personal/thirdparty/DeepRL-Tutorials/agents/DQN.py?line=142'>143</a>\u001b[0m \u001b[39m#target\u001b[39;00m\n\u001b[1;32m    <a href='file:///home/aditya-ws/workspace/personal/thirdparty/DeepRL-Tutorials/agents/DQN.py?line=143'>144</a>\u001b[0m \u001b[39mwith\u001b[39;00m torch\u001b[39m.\u001b[39mno_grad():\n\u001b[1;32m    <a href='file:///home/aditya-ws/workspace/personal/thirdparty/DeepRL-Tutorials/agents/DQN.py?line=144'>145</a>\u001b[0m     \u001b[39m# max_next_q_values = torch.zeros(self.batch_size, device=self.device, dtype=torch.float).unsqueeze(dim=1)\u001b[39;00m\n\u001b[1;32m    <a href='file:///home/aditya-ws/workspace/personal/thirdparty/DeepRL-Tutorials/agents/DQN.py?line=145'>146</a>\u001b[0m     \u001b[39m# if not empty_next_state_values:\u001b[39;00m\n\u001b[1;32m    <a href='file:///home/aditya-ws/workspace/personal/thirdparty/DeepRL-Tutorials/agents/DQN.py?line=146'>147</a>\u001b[0m     \u001b[39m#     max_next_action = self.get_max_next_state_action(non_final_next_states)\u001b[39;00m\n\u001b[1;32m    <a href='file:///home/aditya-ws/workspace/personal/thirdparty/DeepRL-Tutorials/agents/DQN.py?line=147'>148</a>\u001b[0m     \u001b[39m#     self.target_model.sample_noise()\u001b[39;00m\n\u001b[1;32m    <a href='file:///home/aditya-ws/workspace/personal/thirdparty/DeepRL-Tutorials/agents/DQN.py?line=148'>149</a>\u001b[0m     \u001b[39m#     max_next_q_values[non_final_mask] = self.target_model(non_final_next_states).gather(1, max_next_action)\u001b[39;00m\n",
      "\u001b[0;31mRuntimeError\u001b[0m: Index tensor must have the same number of dimensions as input tensor"
     ]
    }
   ],
   "source": [
    "from morl import environments as envs\n",
    "from morl import core\n",
    "\n",
    "core.set_default_torch_device(\"cuda\")\n",
    "start=timer()\n",
    "\n",
    "env_id = \"PongNoFrameskip-v4\"\n",
    "# env    = make_atari(env_id)\n",
    "# env    = wrap_deepmind(env, frame_stack=False)\n",
    "# env    = wrap_pytorch(env)\n",
    "# env = envpool.make_gym(\n",
    "#     \"Pong-v5\",\n",
    "#     num_envs=1,\n",
    "#     seed=0,\n",
    "#     episodic_life=True,\n",
    "#     reward_clip=True,\n",
    "#     stack_num=4,\n",
    "# )\n",
    "# print(env.observation_space.shape)\n",
    "# env = envs.GymEnv.make_ale_env(\"Pong\")\n",
    "env = envs.EnvPool.make_ale_env(\n",
    "    game=\"Pong\",\n",
    "    n_envs=1,\n",
    "    base_seed=0,\n",
    "    frame_stack=4,\n",
    ")\n",
    "model = Model(env=env, config=config)\n",
    "\n",
    "episode_reward = 0\n",
    "\n",
    "# observation = env.reset()\n",
    "for frame_idx in trange(1, config.MAX_FRAMES + 1):\n",
    "    observation = env.get_states_()\n",
    "    action = model.get_action(observation)\n",
    "    prev_observation=observation\n",
    "    # observation, reward, done, _ = env.step(action)\n",
    "    exp_ = env.step_(action)\n",
    "    observation, reward, done = exp_.next_states[0], exp_.rewards.item(), exp_.dones.item()\n",
    "    observation = None if done else observation\n",
    "\n",
    "    # model.update(prev_observation, action, reward, observation, frame_idx)\n",
    "    model.morl_update(exp_, frame_idx)\n",
    "    episode_reward += reward\n",
    "\n",
    "    if done:\n",
    "        model.finish_nstep()\n",
    "        model.reset_hx()\n",
    "        # observation = env.reset()\n",
    "        observation = env.get_states_()\n",
    "        model.save_reward(episode_reward)\n",
    "        episode_reward = 0\n",
    "        \n",
    "        if np.mean(model.rewards[-10:]) > 19:\n",
    "            plot(frame_idx, model.rewards, None, None, timedelta(seconds=int(timer()-start)))\n",
    "            break\n",
    "\n",
    "    if frame_idx % 10000 == 0:\n",
    "        plot(frame_idx, model.rewards, None, None, timedelta(seconds=int(timer()-start)))\n",
    "\n",
    "model.save_w()\n",
    "env.close()"
   ]
  }
 ],
 "metadata": {
  "kernelspec": {
   "display_name": "Python 3",
   "language": "python",
   "name": "python3"
  },
  "language_info": {
   "codemirror_mode": {
    "name": "ipython",
    "version": 3
   },
   "file_extension": ".py",
   "mimetype": "text/x-python",
   "name": "python",
   "nbconvert_exporter": "python",
   "pygments_lexer": "ipython3",
   "version": "3.9.7"
  }
 },
 "nbformat": 4,
 "nbformat_minor": 2
}
